{
 "cells": [
  {
   "cell_type": "markdown",
   "id": "e542b104",
   "metadata": {},
   "source": [
    "# Policy Gradient Methods"
   ]
  },
  {
   "cell_type": "code",
   "execution_count": 1,
   "id": "c69d9856",
   "metadata": {},
   "outputs": [],
   "source": [
    "import gymnasium as gym\n",
    "import numpy as np\n",
    "import time, matplotlib.pyplot as plt\n",
    "from IPython.display import clear_output, display"
   ]
  },
  {
   "cell_type": "code",
   "execution_count": 2,
   "id": "8b0a8e7a",
   "metadata": {},
   "outputs": [],
   "source": [
    "SEED = 327\n",
    "rng = np.random.default_rng(SEED)"
   ]
  },
  {
   "cell_type": "markdown",
   "id": "1c8ecb42",
   "metadata": {},
   "source": [
    "## REINFORCE"
   ]
  },
  {
   "cell_type": "code",
   "execution_count": 3,
   "id": "32e58bcf",
   "metadata": {},
   "outputs": [],
   "source": [
    "env = gym.make(\"CartPole-v1\", render_mode=\"rgb_array\")"
   ]
  },
  {
   "cell_type": "markdown",
   "id": "da8b0853",
   "metadata": {},
   "source": [
    "### Póliza Softmax"
   ]
  },
  {
   "cell_type": "markdown",
   "id": "e1b146c2",
   "metadata": {},
   "source": [
    "El entorno de CartPole-v1 tiene un espacio de acciones discreto:\n",
    "\n",
    "| Acción | Descripción                       |\n",
    "|--------|-----------------------------------|\n",
    "| 0      | Mover el carro a la izquierda     |\n",
    "| 1      | Mover el carro a la derecha       |\n",
    "\n",
    "Por lo tanto, se usará `softmax` como **póliza parametrizable**"
   ]
  },
  {
   "cell_type": "markdown",
   "id": "75916907",
   "metadata": {},
   "source": [
    "La función `softmax` parametrizable es:\n",
    "\n",
    "$$\n",
    "\\pi(a|s, \\theta) = \\frac{e^{h(s, a, \\theta)}}{\\sum_{b} e^{h(s, b, \\theta)}}\n",
    "$$\n",
    "\n",
    "donde:\n",
    "$$\n",
    "h(s, a, \\theta)\n",
    "$$ \n",
    "\n",
    "es una **preferencia parametrizable** que puede ser lineal:\n",
    "\n",
    "$$\n",
    "h(s, a, \\theta) = \\theta_a^T s\n",
    "$$"
   ]
  },
  {
   "cell_type": "markdown",
   "id": "805f48dc",
   "metadata": {},
   "source": [
    "Además, el espacio de estados es continuo, con los siguientes valores:\n",
    "\n",
    "| Estado        | Descripción                       | Mínimo | Máximo |\n",
    "|---------------|-----------------------------------|--------|--------|\n",
    "| Cart Position | Posición del carro                | -4.8   | 4.8    |\n",
    "| Cart Velocity | Velocidad del carro               | -Inf   | Inf    |\n",
    "| Pole Angle    | Ángulo del poste                 | -24°   | 24°    |\n",
    "| Pole Velocity | Velocidad angular del poste       | -Inf   | Inf    |"
   ]
  },
  {
   "cell_type": "code",
   "execution_count": 4,
   "id": "c5f72970",
   "metadata": {},
   "outputs": [],
   "source": [
    "S = env.observation_space\n",
    "A = env.action_space"
   ]
  },
  {
   "cell_type": "code",
   "execution_count": 5,
   "id": "ba1c8963",
   "metadata": {},
   "outputs": [],
   "source": [
    "S_len = S.shape[0]\n",
    "A_len = A.n"
   ]
  },
  {
   "cell_type": "code",
   "execution_count": 6,
   "id": "424b344b",
   "metadata": {},
   "outputs": [],
   "source": [
    "class SoftmaxPolicy:\n",
    "    def __init__(self, W, b):\n",
    "        self.W = W\n",
    "        self.b = b\n",
    "\n",
    "    def logits(self, state):\n",
    "        return state @ self.W + self.b\n",
    "\n",
    "    def probs(self, state):\n",
    "        logits = self.logits(state)\n",
    "        exp_logits = np.exp(logits - np.max(logits))\n",
    "        return exp_logits / np.sum(exp_logits)\n",
    "\n",
    "    def sample(self, state):\n",
    "        probs = self.probs(state)\n",
    "        action = rng.choice(A.n, p=probs)\n",
    "        return action, np.log(probs[action])\n"
   ]
  },
  {
   "cell_type": "markdown",
   "id": "fe635272",
   "metadata": {},
   "source": [
    "### Simulación"
   ]
  },
  {
   "cell_type": "code",
   "execution_count": 7,
   "id": "e186d328",
   "metadata": {},
   "outputs": [],
   "source": [
    "W = np.zeros((S_len, A_len))\n",
    "b = np.zeros(A_len)"
   ]
  },
  {
   "cell_type": "code",
   "execution_count": 8,
   "id": "25a9b625",
   "metadata": {},
   "outputs": [],
   "source": [
    "policy = SoftmaxPolicy(W, b)"
   ]
  },
  {
   "cell_type": "code",
   "execution_count": 9,
   "id": "3f4b0dcf",
   "metadata": {},
   "outputs": [],
   "source": [
    "def simulate_episode(policy, render=False):\n",
    "    states = []\n",
    "    actions = []\n",
    "    rewards = []\n",
    "    log_probs = []\n",
    "\n",
    "    state, info = env.reset()\n",
    "    done = False\n",
    "\n",
    "    while not done:\n",
    "        if render:\n",
    "            img = env.render()\n",
    "            plt.imshow(img)\n",
    "            plt.axis('off')\n",
    "            display(plt.gcf())\n",
    "            clear_output(wait=True)\n",
    "            time.sleep(0.05)\n",
    "\n",
    "        action, log_prob = policy.sample(state)\n",
    "        next_state, reward, terminated, truncated, info = env.step(action)\n",
    "\n",
    "        states.append(state)\n",
    "        actions.append(action)\n",
    "        rewards.append(reward)\n",
    "        log_probs.append(log_prob)\n",
    "\n",
    "        state = next_state\n",
    "        done = terminated or truncated\n",
    "\n",
    "    return states, actions, rewards, log_probs"
   ]
  },
  {
   "cell_type": "code",
   "execution_count": 10,
   "id": "c3086b3d",
   "metadata": {},
   "outputs": [
    {
     "data": {
      "image/png": "[encoded data removed]",
      "text/plain": [
       "<Figure size 640x480 with 1 Axes>"
      ]
     },
     "metadata": {},
     "output_type": "display_data"
    }
   ],
   "source": [
    "states, actions, rewards, log_probs = simulate_episode(policy, render=True)"
   ]
  },
  {
   "cell_type": "markdown",
   "id": "e19f6836",
   "metadata": {},
   "source": [
    "### Rendimiento descontado para cada par de estado-acción"
   ]
  },
  {
   "cell_type": "markdown",
   "id": "7a598f7d",
   "metadata": {},
   "source": [
    "Dado que `REINFORCE` se basa en `Monte Carlo`, se usará el rendimiento descontado para cada par de estado-acción como $$G_t$$\n",
    "\n",
    "$$\n",
    "G_t = \\sum_{k=0}^{\\infty} \\gamma^k R_{t+k+1}\n",
    "$$\n",
    "\n",
    "Además, como se ha visto, en estos casos al ser una estimación sin modelo del entorno, se usará la función valor estado-acción $$Q(s,a)$$ como una estimación del valor esperado del rendimiento descontado:\n",
    "\n",
    "$$Q(s,a) \\approx \\mathbb{E}[G_t | S_t=s, A_t=a]$$"
   ]
  },
  {
   "cell_type": "code",
   "execution_count": 11,
   "id": "a4a729a1",
   "metadata": {},
   "outputs": [],
   "source": [
    "def compute_discounted_returns(rewards, gamma=0.99):\n",
    "    n = len(rewards)\n",
    "    discounted_returns = np.zeros(n)\n",
    "    G = 0\n",
    "    for t in reversed(range(n)):\n",
    "        G = rewards[t] + gamma * G\n",
    "        discounted_returns[t] = G\n",
    "\n",
    "    return discounted_returns"
   ]
  },
  {
   "cell_type": "markdown",
   "id": "8fb495de",
   "metadata": {},
   "source": [
    "### Actualización de los parámetros de la póliza"
   ]
  },
  {
   "cell_type": "markdown",
   "id": "18ab28fc",
   "metadata": {},
   "source": [
    "Los parámetros de la póliza se actualizan de acuerdo a la siguiente fórmula:\n",
    "\n",
    "$$\\theta \\leftarrow \\theta + \\alpha \\gamma^t G_t \\left(\\frac{\\nabla_{\\theta} \\pi(A_t|S_t, \\theta)}{\\pi(A_t|S_t, \\theta)}\\right)$$\n",
    "\n",
    "donde: \n",
    "$$\\nabla_{\\theta} \\pi(A_t|S_t, \\theta)$$\n",
    "es la dirección en el espacio de parámetros que maximiza la probabilidad de seleccionar la acción a en el estado s.\n",
    "\n",
    "$$G_t$$\n",
    "escala la magnitud, cuanto mayor sea el rendimiento esperado, mayor será la actualización.\n",
    "\n",
    "$$\\pi(A_t|S_t, \\theta)$$\n",
    "Acciones menos probables generan actualizaciones más grandes.\n"
   ]
  },
  {
   "cell_type": "code",
   "execution_count": 12,
   "id": "251ec530",
   "metadata": {},
   "outputs": [],
   "source": [
    "class LinearValueBaseline:\n",
    "    def __init__(self):\n",
    "        self.w = np.zeros(S.shape[0])\n",
    "        self.b = 0.0\n",
    "\n",
    "    def predict(self, state) -> float:\n",
    "        return np.dot(self.w, state) + self.b\n",
    "\n",
    "    def fit(self, states, targets, lr: float, epochs: int = 1):\n",
    "        states = np.array(states)\n",
    "        targets = np.array(targets)\n",
    "\n",
    "        for _ in range(epochs):\n",
    "            preds = states @ self.w + self.b\n",
    "            errors = preds - targets\n",
    "\n",
    "            grad_w = (2 / len(states)) * (states.T @ errors)\n",
    "            grad_b = (2 / len(states)) * np.sum(errors)\n",
    "\n",
    "            self.w -= lr * grad_w\n",
    "            self.b -= lr * grad_b"
   ]
  },
  {
   "cell_type": "code",
   "execution_count": 13,
   "id": "70ebbd5c",
   "metadata": {},
   "outputs": [],
   "source": [
    "baseline = LinearValueBaseline()"
   ]
  },
  {
   "cell_type": "code",
   "execution_count": 14,
   "id": "67abecf9",
   "metadata": {},
   "outputs": [],
   "source": [
    "def policy_update(states, actions, advantages, policy, lr):    \n",
    "    grad_W = np.zeros_like(policy.W)\n",
    "    grad_b = np.zeros_like(policy.b)\n",
    "\n",
    "    for t in range(len(states)):\n",
    "        s = states[t]\n",
    "        a = actions[t]\n",
    "        p = policy.probs(s)\n",
    "        \n",
    "        onehot = np.zeros(policy.b.shape)\n",
    "        onehot[a] = 1\n",
    "        \n",
    "        delta = onehot - p\n",
    "        \n",
    "        grad_W += np.outer(s, delta) * advantages[t]\n",
    "        grad_b += delta * advantages[t]\n",
    "\n",
    "    policy.W += lr * grad_W\n",
    "    policy.b += lr * grad_b\n",
    "    \n",
    "    new_policy = SoftmaxPolicy(policy.W.copy(), policy.b.copy())\n",
    "    return new_policy"
   ]
  },
  {
   "cell_type": "code",
   "execution_count": 15,
   "id": "177ab98c",
   "metadata": {},
   "outputs": [],
   "source": [
    "num_episodes = 500\n",
    "gamma = 0.99\n",
    "lr_pi = 5e-3\n",
    "lr_v  = 1e-2"
   ]
  },
  {
   "cell_type": "code",
   "execution_count": 16,
   "id": "ec229598",
   "metadata": {},
   "outputs": [],
   "source": [
    "returns_history = []"
   ]
  },
  {
   "cell_type": "code",
   "execution_count": 17,
   "id": "8468c6b6",
   "metadata": {},
   "outputs": [],
   "source": [
    "for ep in range(num_episodes):\n",
    "    states, actions, rewards, _ = simulate_episode(policy, render=False)\n",
    "\n",
    "    returns = compute_discounted_returns(rewards, gamma)\n",
    "    values  = np.array([baseline.predict(s) for s in states])\n",
    "    advantages = returns - values\n",
    "    advantages = (advantages - advantages.mean()) / (advantages.std() + 1e-8)\n",
    "\n",
    "    policy = policy_update(states, actions, advantages, policy, lr=lr_pi)\n",
    "    \n",
    "    baseline.fit(states, returns, lr=lr_v, epochs=1)\n",
    "    \n",
    "    ep_return = float(np.sum(rewards))\n",
    "    returns_history.append(ep_return)"
   ]
  },
  {
   "cell_type": "code",
   "execution_count": 18,
   "id": "640fdeca",
   "metadata": {},
   "outputs": [
    {
     "data": {
      "image/png": "[encoded data removed]",
      "text/plain": [
       "<Figure size 640x480 with 1 Axes>"
      ]
     },
     "metadata": {},
     "output_type": "display_data"
    }
   ],
   "source": [
    "states, actions, rewards, log_probs = simulate_episode(policy, render=True)"
   ]
  },
  {
   "cell_type": "markdown",
   "id": "f0b2600f",
   "metadata": {},
   "source": [
    "### Resultados"
   ]
  },
  {
   "cell_type": "code",
   "execution_count": 19,
   "id": "ebc5f632",
   "metadata": {},
   "outputs": [
    {
     "data": {
      "image/png": "[encoded data removed]",
      "text/plain": [
       "<Figure size 700x400 with 1 Axes>"
      ]
     },
     "metadata": {},
     "output_type": "display_data"
    },
    {
     "name": "stdout",
     "output_type": "stream",
     "text": [
      "Return promedio (últimos 10): 162.7\n"
     ]
    }
   ],
   "source": [
    "plt.figure(figsize=(7,4))\n",
    "plt.plot(returns_history, label='Return por episodio')\n",
    "window = 10\n",
    "if len(returns_history) >= window:\n",
    "    ma = np.convolve(returns_history, np.ones(window)/window, mode='valid')\n",
    "    plt.plot(range(window-1, window-1+len(ma)), ma, linewidth=2, label=f'Media móvil ({window})')\n",
    "\n",
    "plt.xlabel('Episodio')\n",
    "plt.ylabel('Return')\n",
    "plt.title('REINFORCE en CartPole-v1')\n",
    "plt.grid(True)\n",
    "plt.legend()\n",
    "plt.show()\n",
    "\n",
    "print(f\"Return promedio (últimos 10): {np.mean(returns_history[-10:]):.1f}\")"
   ]
  },
  {
   "cell_type": "markdown",
   "id": "b5d9135c",
   "metadata": {},
   "source": [
    "La curva muestra un aprendizaje claro pero ruidoso: el retorno promedio pasa de ~20–40 a ~150–200, con picos altos (incluso cerca del tope de 500) y caídas pronunciadas, lo típico en REINFORCE por tres razones: la política es estocástica, el gradiente se estima con un solo episodio (alta varianza) y CartPole es frágil (un error termina temprano). La baseline lineal y la estandarización de ventajas ya ayudan a estabilizar, pero no eliminan la variabilidad; por eso ves “dientes de sierra” aun con tendencia ascendente. Interpretación: la política sí mejora y ocasionalmente alcanza trayectorias casi óptimas, pero aún no es establemente buena. Para consolidar la subida, conviene (i) acumular minibatches de 5 episodios por actualización, (ii) normalizar estados antes de entrar a la política/valor, (iii) bajar un poco lr de la política (≈1e-3–3e-3) o promediar el gradiente por longitud del episodio, y (iv) añadir un bonus de entropía pequeño para evitar colapso de exploración. En síntesis, se cumplen los objetivos del task y el comportamiento observado es coherente con REINFORCE; con esas mejoras, la media móvil debería subir de forma más suave y sostenida."
   ]
  }
 ],
 "metadata": {
  "kernelspec": {
   "display_name": ".venv",
   "language": "python",
   "name": "python3"
  },
  "language_info": {
   "codemirror_mode": {
    "name": "ipython",
    "version": 3
   },
   "file_extension": ".py",
   "mimetype": "text/x-python",
   "name": "python",
   "nbconvert_exporter": "python",
   "pygments_lexer": "ipython3",
   "version": "3.11.9"
  }
 },
 "nbformat": 4,
 "nbformat_minor": 5
}
