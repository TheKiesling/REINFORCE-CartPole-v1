{
 "cells": [
  {
   "cell_type": "markdown",
   "id": "e542b104",
   "metadata": {},
   "source": [
    "# Policy Gradient Methods"
   ]
  },
  {
   "cell_type": "code",
   "execution_count": 1,
   "id": "c69d9856",
   "metadata": {},
   "outputs": [],
   "source": [
    "import gymnasium as gym\n",
    "import numpy as np\n",
    "import time, matplotlib.pyplot as plt\n",
    "from IPython.display import clear_output, display"
   ]
  },
  {
   "cell_type": "code",
   "execution_count": 2,
   "id": "8b0a8e7a",
   "metadata": {},
   "outputs": [],
   "source": [
    "SEED = 327\n",
    "rng = np.random.default_rng(SEED)"
   ]
  },
  {
   "cell_type": "markdown",
   "id": "1c8ecb42",
   "metadata": {},
   "source": [
    "## REINFORCE"
   ]
  },
  {
   "cell_type": "code",
   "execution_count": 3,
   "id": "32e58bcf",
   "metadata": {},
   "outputs": [],
   "source": [
    "env = gym.make(\"CartPole-v1\", render_mode=\"rgb_array\")"
   ]
  },
  {
   "cell_type": "markdown",
   "id": "da8b0853",
   "metadata": {},
   "source": [
    "### Póliza Softmax"
   ]
  },
  {
   "cell_type": "markdown",
   "id": "e1b146c2",
   "metadata": {},
   "source": [
    "El entorno de CartPole-v1 tiene un espacio de acciones discreto:\n",
    "\n",
    "| Acción | Descripción                       |\n",
    "|--------|-----------------------------------|\n",
    "| 0      | Mover el carro a la izquierda     |\n",
    "| 1      | Mover el carro a la derecha       |\n",
    "\n",
    "Por lo tanto, se usará `softmax` como **póliza parametrizable**"
   ]
  },
  {
   "cell_type": "markdown",
   "id": "75916907",
   "metadata": {},
   "source": [
    "La función `softmax` parametrizable es:\n",
    "\n",
    "$$\n",
    "\\pi(a|s, \\theta) = \\frac{e^{h(s, a, \\theta)}}{\\sum_{b} e^{h(s, b, \\theta)}}\n",
    "$$\n",
    "\n",
    "donde:\n",
    "$$\n",
    "h(s, a, \\theta)\n",
    "$$ \n",
    "\n",
    "es una **preferencia parametrizable** que puede ser lineal:\n",
    "\n",
    "$$\n",
    "h(s, a, \\theta) = \\theta_a^T s\n",
    "$$"
   ]
  },
  {
   "cell_type": "markdown",
   "id": "805f48dc",
   "metadata": {},
   "source": [
    "Además, el espacio de estados es continuo, con los siguientes valores:\n",
    "\n",
    "| Estado        | Descripción                       | Mínimo | Máximo |\n",
    "|---------------|-----------------------------------|--------|--------|\n",
    "| Cart Position | Posición del carro                | -4.8   | 4.8    |\n",
    "| Cart Velocity | Velocidad del carro               | -Inf   | Inf    |\n",
    "| Pole Angle    | Ángulo del poste                 | -24°   | 24°    |\n",
    "| Pole Velocity | Velocidad angular del poste       | -Inf   | Inf    |"
   ]
  },
  {
   "cell_type": "code",
   "execution_count": 4,
   "id": "c5f72970",
   "metadata": {},
   "outputs": [],
   "source": [
    "S = env.observation_space\n",
    "A = env.action_space"
   ]
  },
  {
   "cell_type": "code",
   "execution_count": 5,
   "id": "ba1c8963",
   "metadata": {},
   "outputs": [],
   "source": [
    "S_len = S.shape[0]\n",
    "A_len = A.n"
   ]
  },
  {
   "cell_type": "code",
   "execution_count": 6,
   "id": "424b344b",
   "metadata": {},
   "outputs": [],
   "source": [
    "class SoftmaxPolicy:\n",
    "    def __init__(self, W, b):\n",
    "        self.W = W\n",
    "        self.b = b\n",
    "\n",
    "    def logits(self, state):\n",
    "        return state @ self.W + self.b\n",
    "\n",
    "    def probs(self, state):\n",
    "        logits = self.logits(state)\n",
    "        exp_logits = np.exp(logits - np.max(logits))\n",
    "        return exp_logits / np.sum(exp_logits)\n",
    "\n",
    "    def sample(self, state):\n",
    "        probs = self.probs(state)\n",
    "        action = rng.choice(A.n, p=probs)\n",
    "        return action, np.log(probs[action])\n"
   ]
  },
  {
   "cell_type": "markdown",
   "id": "fe635272",
   "metadata": {},
   "source": [
    "### Simulación"
   ]
  },
  {
   "cell_type": "code",
   "execution_count": 7,
   "id": "e186d328",
   "metadata": {},
   "outputs": [],
   "source": [
    "W = np.zeros((S_len, A_len))\n",
    "b = np.zeros(A_len)"
   ]
  },
  {
   "cell_type": "code",
   "execution_count": 8,
   "id": "25a9b625",
   "metadata": {},
   "outputs": [],
   "source": [
    "policy = SoftmaxPolicy(W, b)"
   ]
  },
  {
   "cell_type": "code",
   "execution_count": 9,
   "id": "3f4b0dcf",
   "metadata": {},
   "outputs": [],
   "source": [
    "def simulate_episode(policy, render=False):\n",
    "    states = []\n",
    "    actions = []\n",
    "    rewards = []\n",
    "    log_probs = []\n",
    "\n",
    "    state, info = env.reset()\n",
    "    done = False\n",
    "\n",
    "    while not done:\n",
    "        if render:\n",
    "            img = env.render()\n",
    "            plt.imshow(img)\n",
    "            plt.axis('off')\n",
    "            display(plt.gcf())\n",
    "            clear_output(wait=True)\n",
    "            time.sleep(0.05)\n",
    "\n",
    "        action, log_prob = policy.sample(state)\n",
    "        next_state, reward, terminated, truncated, info = env.step(action)\n",
    "\n",
    "        states.append(state)\n",
    "        actions.append(action)\n",
    "        rewards.append(reward)\n",
    "        log_probs.append(log_prob)\n",
    "\n",
    "        state = next_state\n",
    "        done = terminated or truncated\n",
    "\n",
    "    return states, actions, rewards, log_probs"
   ]
  },
  {
   "cell_type": "code",
   "execution_count": 10,
   "id": "c3086b3d",
   "metadata": {},
   "outputs": [
    {
     "data": {
      "image/png": "[encoded data removed]",
      "text/plain": [
       "<Figure size 640x480 with 1 Axes>"
      ]
     },
     "metadata": {},
     "output_type": "display_data"
    }
   ],
   "source": [
    "states, actions, rewards, log_probs = simulate_episode(policy, render=True)\n",
    "env.close()"
   ]
  },
  {
   "cell_type": "markdown",
   "id": "e19f6836",
   "metadata": {},
   "source": [
    "### Rendimiento descontado para cada par de estado-acción"
   ]
  },
  {
   "cell_type": "markdown",
   "id": "7a598f7d",
   "metadata": {},
   "source": [
    "Dado que `REINFORCE` se basa en `Monte Carlo`, se usará el rendimiento descontado para cada par de estado-acción como $$G_t$$\n",
    "\n",
    "$$\n",
    "G_t = \\sum_{k=0}^{\\infty} \\gamma^k R_{t+k+1}\n",
    "$$\n",
    "\n",
    "Además, como se ha visto, en estos casos al ser una estimación sin modelo del entorno, se usará la función valor estado-acción $$Q(s,a)$$ como una estimación del valor esperado del rendimiento descontado:\n",
    "\n",
    "$$Q(s,a) \\approx \\mathbb{E}[G_t | S_t=s, A_t=a]$$"
   ]
  },
  {
   "cell_type": "code",
   "execution_count": 11,
   "id": "a4a729a1",
   "metadata": {},
   "outputs": [],
   "source": [
    "def compute_discounted_returns(rewards, gamma=0.99):\n",
    "    n = len(rewards)\n",
    "    discounted_returns = np.zeros(n)\n",
    "    G = 0\n",
    "    for t in reversed(range(n)):\n",
    "        G = rewards[t] + gamma * G\n",
    "        discounted_returns[t] = G\n",
    "\n",
    "    return discounted_returns"
   ]
  },
  {
   "cell_type": "markdown",
   "id": "8fb495de",
   "metadata": {},
   "source": [
    "### Actualización de los parámetros de la póliza"
   ]
  },
  {
   "cell_type": "markdown",
   "id": "18ab28fc",
   "metadata": {},
   "source": [
    "Los parámetros de la póliza se actualizan de acuerdo a la siguiente fórmula:\n",
    "\n",
    "$$\\theta \\leftarrow \\theta + \\alpha \\gamma^t G_t \\left(\\frac{\\nabla_{\\theta} \\pi(A_t|S_t, \\theta)}{\\pi(A_t|S_t, \\theta)}\\right)$$\n",
    "\n",
    "donde: \n",
    "$$\\nabla_{\\theta} \\pi(A_t|S_t, \\theta)$$\n",
    "es la dirección en el espacio de parámetros que maximiza la probabilidad de seleccionar la acción a en el estado s.\n",
    "\n",
    "$$G_t$$\n",
    "escala la magnitud, cuanto mayor sea el rendimiento esperado, mayor será la actualización.\n",
    "\n",
    "$$\\pi(A_t|S_t, \\theta)$$\n",
    "Acciones menos probables generan actualizaciones más grandes.\n"
   ]
  },
  {
   "cell_type": "code",
   "execution_count": 12,
   "id": "251ec530",
   "metadata": {},
   "outputs": [],
   "source": [
    "class LinearValueBaseline:\n",
    "    def __init__(self):\n",
    "        self.w = np.zeros(S.shape[0])\n",
    "        self.b = 0.0\n",
    "\n",
    "    def predict(self, state) -> float:\n",
    "        return np.dot(self.w, state) + self.b\n",
    "\n",
    "    def fit(self, states, targets, lr: float, epochs: int = 1):\n",
    "        states = np.array(states)\n",
    "        targets = np.array(targets)\n",
    "\n",
    "        for _ in range(epochs):\n",
    "            preds = states @ self.w + self.b\n",
    "            errors = preds - targets\n",
    "\n",
    "            grad_w = (2 / len(states)) * (states.T @ errors)\n",
    "            grad_b = (2 / len(states)) * np.sum(errors)\n",
    "\n",
    "            self.w -= lr * grad_w\n",
    "            self.b -= lr * grad_b"
   ]
  },
  {
   "cell_type": "code",
   "execution_count": 13,
   "id": "70ebbd5c",
   "metadata": {},
   "outputs": [],
   "source": [
    "baseline = LinearValueBaseline()"
   ]
  },
  {
   "cell_type": "code",
   "execution_count": 14,
   "id": "842450c2",
   "metadata": {},
   "outputs": [],
   "source": [
    "returns = compute_discounted_returns(rewards)\n",
    "values = [baseline.predict(s) for s in states]\n",
    "advantages = returns - values"
   ]
  },
  {
   "cell_type": "code",
   "execution_count": 15,
   "id": "67abecf9",
   "metadata": {},
   "outputs": [],
   "source": [
    "def policy_update(states, actions, advantages, policy, lr):    \n",
    "    grad_W = np.zeros_like(policy.W)\n",
    "    grad_b = np.zeros_like(policy.b)\n",
    "\n",
    "    for t in range(len(states)):\n",
    "        s = states[t]\n",
    "        a = actions[t]\n",
    "        p = policy.probs(s)\n",
    "        \n",
    "        onehot = np.zeros(policy.b.shape)\n",
    "        onehot[a] = 1\n",
    "        \n",
    "        delta = onehot - p\n",
    "        \n",
    "        grad_W += np.outer(s, delta) * advantages[t]\n",
    "        grad_b += delta * advantages[t]\n",
    "\n",
    "    policy.W += lr * grad_W\n",
    "    policy.b += lr * grad_b\n",
    "    \n",
    "    new_policy = SoftmaxPolicy(policy.W.copy(), policy.b.copy())\n",
    "    return new_policy"
   ]
  },
  {
   "cell_type": "code",
   "execution_count": 16,
   "id": "ae11c9f5",
   "metadata": {},
   "outputs": [],
   "source": [
    "new_policy = policy_update(states, actions, advantages, policy, lr=0.01)"
   ]
  },
  {
   "cell_type": "code",
   "execution_count": 17,
   "id": "70ead37c",
   "metadata": {},
   "outputs": [
    {
     "data": {
      "image/png": "[encoded data removed]",
      "text/plain": [
       "<Figure size 640x480 with 1 Axes>"
      ]
     },
     "metadata": {},
     "output_type": "display_data"
    }
   ],
   "source": [
    "states, actions, rewards, log_probs = simulate_episode(new_policy, render=True)\n",
    "env.close()"
   ]
  }
 ],
 "metadata": {
  "kernelspec": {
   "display_name": ".venv",
   "language": "python",
   "name": "python3"
  },
  "language_info": {
   "codemirror_mode": {
    "name": "ipython",
    "version": 3
   },
   "file_extension": ".py",
   "mimetype": "text/x-python",
   "name": "python",
   "nbconvert_exporter": "python",
   "pygments_lexer": "ipython3",
   "version": "3.11.9"
  }
 },
 "nbformat": 4,
 "nbformat_minor": 5
}
